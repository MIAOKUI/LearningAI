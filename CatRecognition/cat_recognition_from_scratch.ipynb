{
 "cells": [
  {
   "cell_type": "markdown",
   "metadata": {
    "collapsed": true
   },
   "source": [
    "## 无框架多层神经网络猫狗分类\n",
    "使用numpy "
   ]
  },
  {
   "cell_type": "code",
   "execution_count": 2,
   "metadata": {},
   "outputs": [],
   "source": [
    "import numpy as np\n",
    "import matplotlib.pyplot as plt\n",
    "\n",
    "np.random.seed(121)"
   ]
  },
  {
   "cell_type": "markdown",
   "metadata": {},
   "source": [
    "### 1. 多层神经网络每一层输入输出维度关系\n",
    "由于需要从头开始实现神经网络， 在争相传播和反向传播时， 需要矩阵运算维度保持匹配。 在开工支之前先把维度弄清楚。\n",
    "比如输入层X维度是$(n^{[1]}=12288,m^{[1]}=209)$, 也就是特征有12288维， 样品数209个。具体维度如下：\n",
    "\n",
    "\n",
    "<table style=\"width:100%\">\n",
    "\t<tr>\n",
    "\t\t<th>网络层数</th>\n",
    "\t\t<th>W维度</th>\n",
    "\t\t<th>b维度</th>\n",
    "\t\t<th>Z值</th>\n",
    "\t\t<th>A维度</th>\n",
    "\t</tr>\n",
    "\t<tr>\n",
    "\t\t<td>Layer 1</td>\n",
    "\t\t<td>$(n^{[1]}, 12288)$</td>\n",
    "\t\t<td>$(n^{[1]}, 1)$</td>\n",
    "\t\t<td>$Z^{[1]}=W^{[1]}X + b^{[1]}$</td>\n",
    "\t\t<td>$(n^{[1]}, 209)$</td>\n",
    "\t</tr>\n",
    "\n",
    "\t<tr>\n",
    "\t\t<td>Layer 2</td>\n",
    "\t\t<td>$(n^{[2]}, n^{[1]})$</td>\n",
    "\t\t<td>$(n^{[2]}, 1)$</td>\n",
    "\t\t<td>$Z^{[2]}=W^{[2]}A^{[1]}+b^{[2]}$</td>\n",
    "\t\t<td>$(n^{[2]}, 209)$</td>\n",
    "\t</tr>\n",
    "\n",
    "\t<tr>\n",
    "        \t<td>$\\vdots$</td> \n",
    "        \t<td>$\\vdots$</td> \n",
    "        \t<td>$\\vdots$</td> \n",
    "        \t<td>$\\vdots$</td> \n",
    "        \t<td>$\\vdots$</td> \n",
    "\t</tr>\n",
    "\n",
    "\t<tr>\n",
    "\t\t<td>Layer L-1</td>\n",
    "\t\t<td>$(n^{[L-1]}, n^{[L-2]})$</td>\n",
    "\t\t<td>$(n^{[L-1]}, 1)$</td>\n",
    "\t\t<td>$Z^{[L-1]}=W^{[L-1]}A^{[L-2]} + b^{[L-2]}$</td>\n",
    "\t\t<td>$(n^{[L-1]}, 209)$</td>\n",
    "\t</tr>\n",
    "\t\n",
    "\t<tr>\n",
    "\t\t<td>Layer L</td>\n",
    "\t\t<td>$(n^{[L]}, n^{[L-1]})$</td>\n",
    "\t\t<td>$(n^{[L]}, 1)$</td>\n",
    "\t\t<td>$Z^{[L]}=W^{[L-1]}A^{[L-1]} + b^{[L-1]}$</td>\n",
    "\t\t<td>$(n^{[L]}, 209)$</td>\n",
    "\t</tr>\n",
    "\t\n",
    "</table>\n",
    "\n",
    "网络基本构成如下：\n",
    "[Linear --> RELU](L-1层) --> [Linear --> Sigmoid]"
   ]
  },
  {
   "cell_type": "markdown",
   "metadata": {},
   "source": [
    "### 4. 向后传播（Backward Propagation）\n",
    "向后传播涉及一系列链式求导。中间L-1层的一系列梯度如下。 \n",
    "\n",
    "激活函数的梯度\n",
    "\n",
    "$$dZ^{[l]} = dA^{[l]} * g'(Z^{[l]}) \\tag{11}$$\n",
    "\n",
    "线性函数梯度\n",
    "$$ dA^{[l-1]} = \\frac{\\partial \\mathcal{L} }{\\partial A^{[l-1]}} = W^{[l] T} dZ^{[l]} \\tag{10}$$\n",
    "$$ dW^{[l]} = \\frac{\\partial \\mathcal{L} }{\\partial W^{[l]}} = \\frac{1}{m} dZ^{[l]} A^{[l-1] T} \\tag{8}$$\n",
    "$$ db^{[l]} = \\frac{\\partial \\mathcal{L} }{\\partial b^{[l]}} = \\frac{1}{m} \\sum_{i = 1}^{m} dZ^{[l](i)}\\tag{9}$$\n",
    "\n",
    "而第L层的dAL如下：\n",
    "$$dAL=\\frac{\\partial{J}}{\\partial{A^{[L]}}}=-(\\frac{Y}{A^{[L]}}-\\frac{1-Y}{1-A^{[L]}})$$\n",
    "\n",
    "\n",
    "#### 4.1 激活函数梯度\n",
    "为了后面计算起来方便，先来写激活函数的梯度\n",
    "**Relu**"
   ]
  },
  {
   "cell_type": "markdown",
   "metadata": {},
   "source": [
    "### 3. 权值初始化\n",
    "* 对于神经网络而言， 不能把多神经元的W全部初始化为0， 如果的这样的话， 训练出来每个神经元结果完全一样。 效果等同于一个逻辑回归函数。 \n",
    "* 为了保证多层变换以后不至于输出结果过大导致梯度爆炸，初始权值尽量小一些。 使用np.random.randn(shape)*0.01初始化W\n",
    "* b可以初始位0， np.zeros(shape)"
   ]
  },
  {
   "cell_type": "code",
   "execution_count": 3,
   "metadata": {},
   "outputs": [],
   "source": [
    "def l_layer_init(layer_dims_list, init_w):\n",
    "    \"\"\"\n",
    "    \n",
    "    :param \n",
    "        list_layer_dims -- python list of dims of each layer. Each element is a int number of hidden unit\n",
    "        init_w -- a ratio to justify params\n",
    "    :return: \n",
    "        param_weights: python dict of W,b for each layers\n",
    "    \"\"\"\n",
    "    L = len(layer_dims_list)\n",
    "    param_weights = {}\n",
    "    np.random.seed(121)\n",
    "    for l in range(1, L):\n",
    "        param_weights['W'+str(l)] = np.random.randn(layer_dims_list[l],layer_dims_list[l-1]) * init_w\n",
    "        param_weights['b'+str(l)] = np.zeros([layer_dims_list[l], 1])\n",
    "    return param_weights      "
   ]
  },
  {
   "cell_type": "markdown",
   "metadata": {},
   "source": [
    "假设初始一个3层网络， 输入特征10维，第二层，3个hidden unit, 输出层1维。 隐藏层和输出层的参数权重维度应该是\n",
    "W1(3,10), b1(3,1), W2(1, 3), b2(1, 1), 测试一下上述函数。 "
   ]
  },
  {
   "cell_type": "code",
   "execution_count": 4,
   "metadata": {},
   "outputs": [
    {
     "ename": "TypeError",
     "evalue": "l_layer_init() missing 1 required positional argument: 'init_w'",
     "traceback": [
      "\u001b[0;31m---------------------------------------------------------------------------\u001b[0m",
      "\u001b[0;31mTypeError\u001b[0m                                 Traceback (most recent call last)",
      "\u001b[0;32m<ipython-input-4-a1074d0837d7>\u001b[0m in \u001b[0;36m<module>\u001b[0;34m()\u001b[0m\n\u001b[1;32m      1\u001b[0m \u001b[0mtest_dims_list\u001b[0m \u001b[0;34m=\u001b[0m \u001b[0;34m[\u001b[0m\u001b[0;36m10\u001b[0m\u001b[0;34m,\u001b[0m \u001b[0;36m3\u001b[0m\u001b[0;34m,\u001b[0m \u001b[0;36m1\u001b[0m\u001b[0;34m]\u001b[0m\u001b[0;34m\u001b[0m\u001b[0m\n\u001b[0;32m----> 2\u001b[0;31m \u001b[0mtest_params_weights\u001b[0m \u001b[0;34m=\u001b[0m \u001b[0ml_layer_init\u001b[0m\u001b[0;34m(\u001b[0m\u001b[0mtest_dims_list\u001b[0m\u001b[0;34m)\u001b[0m\u001b[0;34m\u001b[0m\u001b[0m\n\u001b[0m\u001b[1;32m      3\u001b[0m \u001b[0mprint\u001b[0m\u001b[0;34m(\u001b[0m\u001b[0;34m'W1'\u001b[0m\u001b[0;34m)\u001b[0m\u001b[0;34m\u001b[0m\u001b[0m\n\u001b[1;32m      4\u001b[0m \u001b[0mprint\u001b[0m\u001b[0;34m(\u001b[0m\u001b[0mtest_params_weights\u001b[0m\u001b[0;34m[\u001b[0m\u001b[0;34m'W1'\u001b[0m\u001b[0;34m]\u001b[0m\u001b[0;34m.\u001b[0m\u001b[0mshape\u001b[0m\u001b[0;34m)\u001b[0m\u001b[0;34m\u001b[0m\u001b[0m\n\u001b[1;32m      5\u001b[0m \u001b[0mprint\u001b[0m\u001b[0;34m(\u001b[0m\u001b[0;34m'b1'\u001b[0m\u001b[0;34m)\u001b[0m\u001b[0;34m\u001b[0m\u001b[0m\n",
      "\u001b[0;31mTypeError\u001b[0m: l_layer_init() missing 1 required positional argument: 'init_w'"
     ],
     "output_type": "error"
    }
   ],
   "source": [
    "test_dims_list = [10, 3, 1]\n",
    "test_params_weights = l_layer_init(test_dims_list)\n",
    "print('W1')\n",
    "print(test_params_weights['W1'].shape)\n",
    "print('b1')\n",
    "print(test_params_weights['b1'].shape)\n",
    "print('\\nW2')\n",
    "print(test_params_weights['W2'].shape)\n",
    "print('b2')\n",
    "print(test_params_weights['b2'].shape)"
   ]
  },
  {
   "cell_type": "markdown",
   "metadata": {},
   "source": [
    "### 2. 向前传播Forward Propagation\n",
    "向前传播包括两部分变换\n",
    "* 线性变换\n",
    "* 非线性激活函数变换\n",
    "因此需要把需要的激活函数定义出来。 这个项目中， 隐藏层使用relu函数， 输出层牵扯到分类问题，使用sigmoid函数。"
   ]
  },
  {
   "cell_type": "code",
   "execution_count": 5,
   "metadata": {},
   "outputs": [],
   "source": [
    "def relu(Z):\n",
    "    cache = Z\n",
    "    A = np.maximum(0, Z)\n",
    "    return A, cache\n",
    "\n",
    "def sigmoid(Z):\n",
    "    cache = Z\n",
    "    A = 1/(1+np.exp(-Z))\n",
    "    return A, cache"
   ]
  },
  {
   "cell_type": "markdown",
   "metadata": {},
   "source": [
    "激活函数定义完毕后，准备定义forward_propagation函数\n",
    "#### 2.2 定义向前传播函数\n",
    "* 第一层网络， $A^{[0]}=X$\n",
    "* 前L-1层网络，$Z^{[l]}=W^{[l]}A^{[l-1]} + b^{[l]}，A^{[l]}=Relu(Z^{[l]})$\n",
    "* 第L层网络， $Z^{[L]}=W^{[L]}A^{[L-1]} + b^{[L]}，A^{[L]}=sigmoid(Z^{[L]})$"
   ]
  },
  {
   "cell_type": "code",
   "execution_count": 6,
   "metadata": {},
   "outputs": [],
   "source": [
    "def linear_forward(A, W, b):\n",
    "    Z = np.dot(W, A) + b\n",
    "    cache = (A, W, b)\n",
    "    return Z, cache\n",
    "\n",
    "def linear_activation_forward(A_prev, W, b, activation):\n",
    "    if activation == \"sigmoid\":\n",
    "        Z, linear_cache = linear_forward(A_prev, W, b)\n",
    "        A, activation_cache = sigmoid(Z)\n",
    "    elif activation == 'relu':\n",
    "        Z, linear_cache = linear_forward(A_prev, W, b)\n",
    "        A, activation_cache = relu(Z)\n",
    "    cache = (linear_cache, activation_cache)\n",
    "    return A, cache\n",
    "\n",
    "\n",
    "def forward_propagation(X, param_weights):\n",
    "    \"\"\"\n",
    "    :param param_weights: python dict of parameters weights\n",
    "    :param X: input matrix\n",
    "    \n",
    "    :return: \n",
    "    AL -- output layer activation value\n",
    "    caches -- list of caches containing Z value for each layer\n",
    "    \"\"\"\n",
    "    caches = []\n",
    "    A = X\n",
    "    L = len(param_weights)//2\n",
    "    \n",
    "    ## impelment [linear --> relu]*(L-1) --> [linear --> sigmoid]\n",
    "    \n",
    "    ## L-1 layers\n",
    "    for l in range(1, L):\n",
    "        A_prev = A\n",
    "        Wl, bl = param_weights['W' + str(l)], param_weights['b'+str(l)]\n",
    "        A, cache = linear_activation_forward(A_prev, Wl, bl, 'relu')\n",
    "        caches.append(cache)\n",
    "    WL, bL = param_weights['W' + str(L)], param_weights['b' + str(L)]\n",
    "    AL, cache = linear_activation_forward(A, WL, bL, 'sigmoid')\n",
    "    caches.append(cache)\n",
    "    return AL, caches"
   ]
  },
  {
   "cell_type": "markdown",
   "metadata": {},
   "source": [
    "### 3. Cost 函数\n",
    "由于是二分类问题， 因此使用交叉熵来描述损失函数\n",
    "\n",
    "$J(W,b)=\\frac{1}{m}\\sum_{i=1}^{m}((y^{(i)}log(a^{[L](i)})+(1-y^{(i)})log(1-a^{[L](i)}))$"
   ]
  },
  {
   "cell_type": "code",
   "execution_count": 7,
   "metadata": {},
   "outputs": [],
   "source": [
    "def cost(AL, Y):\n",
    "    \"\"\"\n",
    "    :param AL: output layer activation value\n",
    "    :param Y: label values \n",
    "    :return: entropy cost\n",
    "    \"\"\"\n",
    "    m = Y.shape[1]\n",
    "    J = - 1/m * (np.dot(Y, np.log(AL.T)) + np.dot(1-Y, np.log(1-AL.T)))\n",
    "    J = np.squeeze(J)\n",
    "    return J"
   ]
  },
  {
   "cell_type": "markdown",
   "metadata": {},
   "source": [
    "### 4. 向后传播（Backward Propagation）\n",
    "向后传播涉及一系列链式求导。中间L-1层的一系列梯度如下。 \n",
    "\n",
    "激活函数的梯度\n",
    "\n",
    "$$dZ^{[l]} = dA^{[l]} * g'(Z^{[l]}) \\tag{11}$$\n",
    "\n",
    "线性函数梯度\n",
    "$$ dA^{[l-1]} = \\frac{\\partial \\mathcal{L} }{\\partial A^{[l-1]}} = W^{[l] T} dZ^{[l]} \\tag{10}$$\n",
    "$$ dW^{[l]} = \\frac{\\partial \\mathcal{L} }{\\partial W^{[l]}} = \\frac{1}{m} dZ^{[l]} A^{[l-1] T} \\tag{8}$$\n",
    "$$ db^{[l]} = \\frac{\\partial \\mathcal{L} }{\\partial b^{[l]}} = \\frac{1}{m} \\sum_{i = 1}^{m} dZ^{[l](i)}\\tag{9}$$\n",
    "\n",
    "而第L层的dAL如下：\n",
    "$$dAL=\\frac{\\partial{J}}{\\partial{A^{[L]}}}=-(\\frac{Y}{A^{[L]}}-\\frac{1-Y}{1-A^{[L]}})$$\n",
    "\n",
    "\n",
    "#### 4.1 激活函数梯度\n",
    "为了后面计算起来方便，先来写激活函数的梯度\n",
    "**Relu**"
   ]
  },
  {
   "cell_type": "code",
   "execution_count": 8,
   "metadata": {},
   "outputs": [],
   "source": [
    "def relu_backward(dA, Z):\n",
    "    dZ = np.array(dA, copy=True)\n",
    "    dZ[Z<=0] = 0\n",
    "    return dZ "
   ]
  },
  {
   "cell_type": "markdown",
   "metadata": {},
   "source": [
    "\n",
    "**sigmoid**"
   ]
  },
  {
   "cell_type": "code",
   "execution_count": 9,
   "metadata": {},
   "outputs": [],
   "source": [
    "def sigmoid_backward(dA, Z):\n",
    "    a = 1/(1+np.exp(-Z))\n",
    "    dZ = dA * a * (1-a)\n",
    "    return dZ"
   ]
  },
  {
   "cell_type": "markdown",
   "metadata": {},
   "source": [
    "#### 4.2 线性好书梯度"
   ]
  },
  {
   "cell_type": "code",
   "execution_count": 10,
   "metadata": {},
   "outputs": [],
   "source": [
    "def linear_backward(dZ, cache):\n",
    "    A_prev, W, b = cache\n",
    "    m = A_prev.shape[1]\n",
    "    dW = 1/m * np.dot(dZ, A_prev.T)\n",
    "    db = 1/m * np.sum(dZ, axis = 1, keepdims = True)\n",
    "    dA_prev = np.dot(W.T, dZ)\n",
    "    return dA_prev, dW, db"
   ]
  },
  {
   "cell_type": "markdown",
   "metadata": {},
   "source": [
    "#### 4.3 一层网络中的backward\n",
    "上面两步用到的函数连起来"
   ]
  },
  {
   "cell_type": "code",
   "execution_count": 11,
   "metadata": {},
   "outputs": [],
   "source": [
    "def linear_activation_backward(dA, cache, activation):\n",
    "    linear_cache, activation_cache = cache\n",
    "    if activation == \"relu\":\n",
    "        dZ = relu_backward(dA, activation_cache)\n",
    "        dA_prev, dW, db = linear_backward(dZ, linear_cache)\n",
    "    elif activation == 'sigmoid':\n",
    "        dZ = sigmoid_backward(dA, activation_cache)\n",
    "        dA_prev, dW, db = linear_backward(dZ, linear_cache)\n",
    "    return dA_prev, dW, db"
   ]
  },
  {
   "cell_type": "markdown",
   "metadata": {},
   "source": [
    "#### 4.4 完整实现Backward Propagation\n",
    "把上面的函数串起来，放到L层网络里面，完整实现BP"
   ]
  },
  {
   "cell_type": "code",
   "execution_count": 12,
   "metadata": {},
   "outputs": [],
   "source": [
    "def backward_propagation(AL, Y, caches):\n",
    "    grads = {}\n",
    "    L = len(caches)\n",
    "  #  m = AL.shape[1]\n",
    "    Y = Y.reshape(AL.shape)\n",
    "    \n",
    "    # Initialization of dAL\n",
    "    dAL = - (np.divide(Y, AL) - np.divide(1 - Y, 1 - AL))\n",
    "    current_cache = caches[-1]\n",
    "    grads[\"dA\" + str(L)], grads[\"dW\" + str(L)], grads[\"db\" + str(L)] = \\\n",
    "        linear_activation_backward(dAL, current_cache,'sigmoid')\n",
    "    \n",
    "    for l in reversed(range(L-1)):\n",
    "        current_cache = caches[l]\n",
    "        dA_prev_temp, dW_temp, db_temp = \\\n",
    "            linear_activation_backward(grads[\"dA\"+str(l+2)], current_cache, 'relu')\n",
    "        grads['dA' + str(l + 1)] = dA_prev_temp\n",
    "        grads['dW' + str(l + 1)] = dW_temp\n",
    "        grads['db' + str(l + 1)] = db_temp\n",
    "    \n",
    "    return grads"
   ]
  },
  {
   "cell_type": "markdown",
   "metadata": {},
   "source": [
    "### 5. 梯度下降法更新权值\n",
    "\n",
    "$W^{[l]}=W^{[l]}-\\alpha{dW^{[l]}}$\n",
    "\n",
    "$b^{[l]}=b^{[l]}-\\alpha{db^{[l]}}$"
   ]
  },
  {
   "cell_type": "code",
   "execution_count": 13,
   "metadata": {},
   "outputs": [],
   "source": [
    "def update_parameters(param_weights, grads, learning_rate):\n",
    "    L = len(param_weights)//2\n",
    "    for l in range(1, L+1):\n",
    "        param_weights['W' + str(l)] = param_weights['W' + str(l)] - learning_rate*grads['dW' + str(l)]\n",
    "        param_weights['b' + str(l)] = param_weights['b' + str(l)] - learning_rate*grads['db' + str(l)]\n",
    "    return param_weights"
   ]
  },
  {
   "cell_type": "code",
   "execution_count": 14,
   "metadata": {},
   "outputs": [],
   "source": [
    "### 6. 最终L层深度神经网络函数\n",
    "def L_layer_model(X, Y, layers_dims_list, learning_rate = 0.01, num_iterations = 3000, init_w=0.01):\n",
    "    np.random.seed(121)\n",
    "    costs = []\n",
    "    params_weights = l_layer_init(layers_dims_list, init_w)\n",
    "    for i in range(num_iterations):\n",
    "        AL, caches = forward_propagation(X, params_weights)\n",
    "        J = cost(AL, Y)\n",
    "        costs.append(J)\n",
    "        grads = backward_propagation(AL, Y, caches)\n",
    "        params_weights = update_parameters(params_weights, grads, learning_rate)\n",
    "        if i % 10000 == 0:\n",
    "            print (\"Cost after iteration %i: %f\" %(i, costs[-1]))\n",
    "    plt.plot(np.squeeze(costs))\n",
    "    plt.ylabel('cost')\n",
    "    plt.xlabel('iterations (per tens)')\n",
    "    plt.title(\"Learning rate =\" + str(learning_rate))\n",
    "    plt.show()\n",
    "    return params_weights\n",
    "\n",
    "def predict(X, y, params_weight):\n",
    "    m = X.shape[1]\n",
    "    p = np.zeros([1, m])\n",
    "    prob, _ = forward_propagation(X, params_weight)\n",
    "    \n",
    "    for i in range(0, prob.shape[1]):\n",
    "        if prob[0, i]> 0.5:\n",
    "            p[0, i] = 1\n",
    "        else:\n",
    "            p[0, i] = 0\n",
    "    print(\"Accuracy: \" + str(np.sum((p==y)/m)))\n",
    "    return p\n",
    "        "
   ]
  },
  {
   "cell_type": "markdown",
   "metadata": {},
   "source": [
    "### 7. 导入数据进行实验\n",
    "#### 7.1 导入图片数据\n",
    "导入图片简单展示一下数据， 为了计算方便， 把突变转成64x64x3的维度。 "
   ]
  },
  {
   "cell_type": "code",
   "execution_count": 15,
   "metadata": {},
   "outputs": [
    {
     "data": {
      "text/plain": [
       "<matplotlib.image.AxesImage at 0x11a8529b0>"
      ]
     },
     "execution_count": 15,
     "metadata": {},
     "output_type": "execute_result"
    },
    {
     "data": {
      "image/png": "[encoded data removed]",
      "text/plain": [
       "<matplotlib.figure.Figure at 0x115b144a8>"
      ]
     },
     "metadata": {},
     "output_type": "display_data"
    }
   ],
   "source": [
    "import numpy as np\n",
    "import matplotlib.pyplot as plt\n",
    "import scipy\n",
    "from scipy import ndimage\n",
    "import os\n",
    "import glob\n",
    "\n",
    "\n",
    "%matplotlib inline\n",
    "plt.rcParams['figure.figsize'] = (5.0, 4.0) # set default size of plots\n",
    "plt.rcParams['image.interpolation'] = 'nearest'\n",
    "plt.rcParams['image.cmap'] = 'gray'\n",
    "%load_ext autoreload\n",
    "np.random.seed(1)\n",
    "\n",
    "\n",
    "each_image = 'datasets/train/cat.0.jpg'\n",
    "image = np.array(ndimage.imread(each_image, flatten=False))\n",
    "my_image = scipy.misc.imresize(image, size=(64,64))\n",
    "plt.imshow(my_image)\n"
   ]
  },
  {
   "cell_type": "markdown",
   "metadata": {},
   "source": [
    "把读入图片的部分写成函数， 方便把原始数据转化为可以运算的矩阵"
   ]
  },
  {
   "cell_type": "code",
   "execution_count": 16,
   "metadata": {},
   "outputs": [
    {
     "name": "stdout",
     "output_type": "stream",
     "text": [
      "['datasets/train_small/cat.6.jpg', 'datasets/train_small/dog.36.jpg', 'datasets/train_small/dog.22.jpg', 'datasets/train_small/cat.30.jpg', 'datasets/train_small/cat.24.jpg', 'datasets/train_small/cat.18.jpg', 'datasets/train_small/cat.19.jpg', 'datasets/train_small/cat.25.jpg', 'datasets/train_small/cat.31.jpg', 'datasets/train_small/dog.23.jpg']\n"
     ]
    },
    {
     "name": "stdout",
     "output_type": "stream",
     "text": [
      "(12288, 102) (1, 102)\n[1 0 0 1 1 1 1 1 1 0]\n"
     ]
    }
   ],
   "source": [
    "\n",
    "def load_image(image):\n",
    "    ## load and preprocess image\n",
    "    each_image = np.array(ndimage.imread(image, flatten=False))\n",
    "    each_image = scipy.misc.imresize(each_image, size=(64,64)).reshape((64*64*3,1))\n",
    "    each_image_x = each_image/255\n",
    "    \n",
    "    ## generate label\n",
    "    if os.path.basename(image).split(\".\")[0].strip().lower() == 'cat':\n",
    "        each_image_y = 1\n",
    "    else:\n",
    "        each_image_y = 0\n",
    "    return each_image_x, each_image_y\n",
    "\n",
    "def load_data(data_dir):\n",
    "    image_list = glob.glob(data_dir + \"/*.*.jpg\")\n",
    "    print(image_list[0:10])\n",
    "    data_X = []\n",
    "    data_Y = []\n",
    "    for image in image_list:\n",
    "        image_x, image_y = load_image(image)\n",
    "        data_X.append(image_x)\n",
    "        data_Y.append(image_y)\n",
    "    \n",
    "    return np.concatenate(data_X, axis=1), np.array(data_Y).reshape((1, len(image_list)))\n",
    "\n",
    "data, label = load_data(\"datasets/train_small\")\n",
    "print(data.shape, label.shape)\n",
    "print(label[0, 0:10])\n"
   ]
  },
  {
   "cell_type": "markdown",
   "metadata": {},
   "source": [
    "分训练和测试数据集。 我们取百分之20作为测试数据"
   ]
  },
  {
   "cell_type": "code",
   "execution_count": 130,
   "metadata": {
    "collapsed": false
   },
   "outputs": [
    {
     "name": "stdout",
     "output_type": "stream",
     "text": [
      "Test set shape:\n(12288, 20) (1, 20)\nTrain set shape:\n(12288, 84) (12288, 84)\n"
     ]
    }
   ],
   "source": [
    "np.random.seed(111)\n",
    "ridx = np.random.randint(0, 102, 20)\n",
    "data_test = data[:, ridx]\n",
    "label_test = label[:, ridx]\n",
    "print(\"Test set shape:\")\n",
    "print(data_test.shape, label_test.shape)\n",
    "\n",
    "mask = np.ones(102, np.bool)\n",
    "mask[ridx] = 0\n",
    "data_train = data[:, mask]\n",
    "label_train = label[:, mask]\n",
    "print(\"Train set shape:\")\n",
    "print(data_train.shape, data_train.shape)\n"
   ]
  },
  {
   "cell_type": "markdown",
   "metadata": {},
   "source": [
    "#### 7.2 训练模型权值参数\n",
    "准备选择一个小一点的网络，试试水，免得机器扛不住"
   ]
  },
  {
   "cell_type": "code",
   "execution_count": 19,
   "metadata": {},
   "outputs": [
    {
     "name": "stdout",
     "output_type": "stream",
     "text": [
      "Cost after iteration 0: 0.693147\n"
     ]
    },
    {
     "name": "stdout",
     "output_type": "stream",
     "text": [
      "Cost after iteration 10000: 0.693147\n"
     ]
    },
    {
     "name": "stdout",
     "output_type": "stream",
     "text": [
      "Cost after iteration 20000: 0.693147\n"
     ]
    },
    {
     "name": "stdout",
     "output_type": "stream",
     "text": [
      "Cost after iteration 30000: 0.693147\n"
     ]
    },
    {
     "name": "stdout",
     "output_type": "stream",
     "text": [
      "Cost after iteration 40000: 0.693147\n"
     ]
    },
    {
     "name": "stdout",
     "output_type": "stream",
     "text": [
      "Cost after iteration 50000: 0.693146\n"
     ]
    },
    {
     "name": "stdout",
     "output_type": "stream",
     "text": [
      "Cost after iteration 60000: 0.693145\n"
     ]
    },
    {
     "name": "stdout",
     "output_type": "stream",
     "text": [
      "Cost after iteration 70000: 0.693143\n"
     ]
    },
    {
     "name": "stdout",
     "output_type": "stream",
     "text": [
      "Cost after iteration 80000: 0.693132\n"
     ]
    },
    {
     "name": "stdout",
     "output_type": "stream",
     "text": [
      "Cost after iteration 90000: 0.686717\n"
     ]
    },
    {
     "data": {
      "image/png": "[encoded data removed]",
      "text/plain": [
       "<matplotlib.figure.Figure at 0x115a6fef0>"
      ]
     },
     "metadata": {},
     "output_type": "display_data"
    },
    {
     "name": "stdout",
     "output_type": "stream",
     "text": [
      "Accuracy: 1.0\n"
     ]
    }
   ],
   "source": [
    "layers_dims = [12288, 20, 7, 5, 1] #  5-layer model\n",
    "\n",
    "## training \n",
    "param_weights = L_layer_model(data_train,  label_train, layers_dims, num_iterations = 100000, learning_rate=0.01, init_w = 0.01)\n",
    "\n",
    "## predict on training set\n",
    "p = predict(data_train, label_train, param_weights)"
   ]
  },
  {
   "cell_type": "markdown",
   "metadata": {},
   "source": [
    "迭代了十万次终于收敛了， 我想可能是因为权值初始化的时候初始化的太小了， 导致梯下降缓慢， 产生了所谓梯度消失现象。下面调整一下init_w系数看看结果如何。 "
   ]
  },
  {
   "cell_type": "code",
   "execution_count": 219,
   "metadata": {},
   "outputs": [
    {
     "name": "stdout",
     "output_type": "stream",
     "text": [
      "Cost after iteration 0: 0.693139\n"
     ]
    },
    {
     "data": {
      "image/png": "[encoded data removed]",
      "text/plain": [
       "<matplotlib.figure.Figure at 0x11cbcb550>"
      ]
     },
     "metadata": {},
     "output_type": "display_data"
    },
    {
     "name": "stdout",
     "output_type": "stream",
     "text": [
      "Accuracy: 1.0\n"
     ]
    }
   ],
   "source": [
    "## training \n",
    "param_weights = L_layer_model(data_train,  label_train, layers_dims, num_iterations = 10000, learning_rate=0.01, init_w = 0.1)\n",
    "\n",
    "## predict on training set\n",
    "p = predict(data_train, label_train, param_weights)"
   ]
  },
  {
   "cell_type": "markdown",
   "metadata": {},
   "source": [
    "收敛要迅速多了，几千个循环就收敛了。 再试试init_w 设置为1时候什么现象。"
   ]
  },
  {
   "cell_type": "code",
   "execution_count": 220,
   "metadata": {},
   "outputs": [
    {
     "name": "stderr",
     "output_type": "stream",
     "text": [
      "/Users/MIAOKUI/anaconda3/lib/python3.5/site-packages/ipykernel/__main__.py:8: RuntimeWarning: overflow encountered in exp\n/Users/MIAOKUI/anaconda3/lib/python3.5/site-packages/ipykernel/__main__.py:8: RuntimeWarning: divide by zero encountered in log\n/Users/MIAOKUI/anaconda3/lib/python3.5/site-packages/ipykernel/__main__.py:8: RuntimeWarning: divide by zero encountered in true_divide\n/Users/MIAOKUI/anaconda3/lib/python3.5/site-packages/ipykernel/__main__.py:2: RuntimeWarning: overflow encountered in exp\n  from ipykernel import kernelapp as app\n/Users/MIAOKUI/anaconda3/lib/python3.5/site-packages/ipykernel/__main__.py:3: RuntimeWarning: invalid value encountered in multiply\n  app.launch_new_instance()\n/Users/MIAOKUI/anaconda3/lib/python3.5/site-packages/ipykernel/__main__.py:3: RuntimeWarning: invalid value encountered in less_equal\n  app.launch_new_instance()\n"
     ]
    },
    {
     "name": "stdout",
     "output_type": "stream",
     "text": [
      "Cost after iteration 0: inf\n"
     ]
    },
    {
     "name": "stdout",
     "output_type": "stream",
     "text": [
      "Cost after iteration 10000: nan\n"
     ]
    },
    {
     "name": "stdout",
     "output_type": "stream",
     "text": [
      "Cost after iteration 20000: nan\n"
     ]
    },
    {
     "name": "stdout",
     "output_type": "stream",
     "text": [
      "Cost after iteration 30000: nan\n"
     ]
    },
    {
     "name": "stdout",
     "output_type": "stream",
     "text": [
      "Cost after iteration 40000: nan\n"
     ]
    },
    {
     "name": "stdout",
     "output_type": "stream",
     "text": [
      "Cost after iteration 50000: nan\n"
     ]
    },
    {
     "name": "stdout",
     "output_type": "stream",
     "text": [
      "Cost after iteration 60000: nan\n"
     ]
    },
    {
     "name": "stdout",
     "output_type": "stream",
     "text": [
      "Cost after iteration 70000: nan\n"
     ]
    },
    {
     "name": "stdout",
     "output_type": "stream",
     "text": [
      "Cost after iteration 80000: nan\n"
     ]
    },
    {
     "name": "stdout",
     "output_type": "stream",
     "text": [
      "Cost after iteration 90000: nan\n"
     ]
    },
    {
     "data": {
      "image/png": "[encoded data removed]",
      "text/plain": [
       "<matplotlib.figure.Figure at 0x11bb84c18>"
      ]
     },
     "metadata": {},
     "output_type": "display_data"
    },
    {
     "name": "stdout",
     "output_type": "stream",
     "text": [
      "Accuracy: 0.5\n"
     ]
    }
   ],
   "source": [
    "## training \n",
    "param_weights = L_layer_model(data_train,  label_train, layers_dims, num_iterations = 100000, learning_rate=0.01, init_w = 1)\n",
    "\n",
    "## predict on training set\n",
    "p = predict(data_train, label_train, param_weights)"
   ]
  },
  {
   "cell_type": "markdown",
   "metadata": {},
   "source": [
    "当权值W初始比较大的时候，发现损失函数和梯度就变得无限大， 这直接导致了梯度爆炸收敛失败。 \n",
    "\n",
    "#### 7.3 训练和预测\n",
    "用恰当的方式训练模型\n"
   ]
  },
  {
   "cell_type": "code",
   "execution_count": 19,
   "metadata": {},
   "outputs": [
    {
     "name": "stdout",
     "output_type": "stream",
     "text": [
      "['datasets/train/dog.8011.jpg', 'datasets/train/cat.5077.jpg', 'datasets/train/dog.7322.jpg', 'datasets/train/cat.2718.jpg', 'datasets/train/cat.3406.jpg', 'datasets/train/dog.1753.jpg', 'datasets/train/cat.4369.jpg', 'datasets/train/cat.7660.jpg', 'datasets/train/dog.5535.jpg', 'datasets/train/cat.8553.jpg']\n"
     ]
    },
    {
     "name": "stdout",
     "output_type": "stream",
     "text": [
      "Test set shape:\n(12288, 20) (1, 20)\nTrain set shape:\n(12288, 84) (12288, 84)\nCost after iteration 0: 0.693384\n"
     ]
    },
    {
     "name": "stderr",
     "output_type": "stream",
     "text": [
      "/Users/MIAOKUI/anaconda3/lib/python3.5/site-packages/ipykernel/__main__.py:12: VisibleDeprecationWarning: boolean index did not match indexed array along dimension 1; dimension is 19219 but corresponding boolean dimension is 102\n/Users/MIAOKUI/anaconda3/lib/python3.5/site-packages/ipykernel/__main__.py:13: VisibleDeprecationWarning: boolean index did not match indexed array along dimension 1; dimension is 19219 but corresponding boolean dimension is 102\n"
     ]
    },
    {
     "data": {
      "image/png": "[encoded data removed]",
      "text/plain": [
       "<matplotlib.figure.Figure at 0x101eaf6d8>"
      ]
     },
     "metadata": {},
     "output_type": "display_data"
    },
    {
     "name": "stdout",
     "output_type": "stream",
     "text": [
      "Testing on training set\nAccuracy: 1.0\nTesting on testing set\nAccuracy: 0.75\n"
     ]
    }
   ],
   "source": [
    "## 使用完整训练集\n",
    "data, label = load_data(\"datasets/train\")\n",
    "np.random.seed(111)\n",
    "ridx = np.random.randint(0, 102, 20)\n",
    "data_test = data[:, ridx]\n",
    "label_test = label[:, ridx]\n",
    "print(\"Test set shape:\")\n",
    "print(data_test.shape, label_test.shape)\n",
    "\n",
    "mask = np.ones(102, np.bool)\n",
    "mask[ridx] = 0\n",
    "data_train = data[:, mask]\n",
    "label_train = label[:, mask]\n",
    "print(\"Train set shape:\")\n",
    "print(data_train.shape, data_train.shape)\n",
    "\n",
    "\n",
    "\n",
    "## training \n",
    "param_weights = L_layer_model(data_train,  label_train, layers_dims, num_iterations = 10000, learning_rate=0.01, init_w = 0.1)\n",
    "## testing on training set\n",
    "print('Testing on training set')\n",
    "_=predict(data_train, label_train, param_weights)\n",
    "## testing on testing set\n",
    "print('Testing on testing set')\n",
    "_=predict(data_test, label_test, param_weights)"
   ]
  },
  {
   "cell_type": "markdown",
   "metadata": {},
   "source": []
  }
 ],
 "metadata": {
  "kernelspec": {
   "display_name": "Python 2",
   "language": "python",
   "name": "python2"
  },
  "language_info": {
   "codemirror_mode": {
    "name": "ipython",
    "version": 2
   },
   "file_extension": ".py",
   "mimetype": "text/x-python",
   "name": "python",
   "nbconvert_exporter": "python",
   "pygments_lexer": "ipython2",
   "version": "2.7.6"
  }
 },
 "nbformat": 4,
 "nbformat_minor": 0
}
